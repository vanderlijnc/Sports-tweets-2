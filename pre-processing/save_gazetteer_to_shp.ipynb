{
 "cells": [
  {
   "cell_type": "code",
   "execution_count": 8,
   "metadata": {},
   "outputs": [
    {
     "name": "stdout",
     "output_type": "stream",
     "text": [
      "Gazetteer ready for use\n"
     ]
    }
   ],
   "source": [
    "import pandas as pd\n",
    "import geopandas as gpd\n",
    "from pyproj import CRS\n",
    "from shapely.geometry import Point\n",
    "\n",
    "def get_gazetteer():\n",
    "    \"\"\"\n",
    "    Retrieve GeoNames gazetteer and limit that to contain only the toponyms in Helsinki Metropolitan area.\n",
    "    \"\"\"\n",
    "    #retrieve the toponyms from Geonames txt file\n",
    "    geonames = pd.read_csv(r\"data/FI.txt\", sep=\"\\t\", header= None)\n",
    "    #rename the columns\n",
    "    geonames.columns = [\"geonameid\", \"name\", \"asciiname\", \"alternatenames\", \"latitude\", \"longitude\", \"feature class\", \n",
    "                        \"feature code\", \"country code\", \"cc2\", \"admin1 code\", \"admin2 code\", \"admin3 code\", \"admin4 code\",                                 \"population\", \"elevation\", \"dem\", \"timezone\", \"modification date\"]\n",
    "      \n",
    "    #make shapely points from latitude and longitude and convert to geodataframe\n",
    "    geonames[\"geometry\"] = geonames.apply(lambda row: Point(row[\"longitude\"], row[\"latitude\"]), axis=1)\n",
    "    geonames = gpd.GeoDataFrame(geonames)\n",
    "\n",
    "    #reproject geonames to ETRS89 / TM35FIN\n",
    "    geonames.crs = CRS.from_epsg(4326).to_wkt()\n",
    "    geonames = geonames.to_crs(epsg=3067)\n",
    "\n",
    "    #get a shapefile of municipalities in Metropolitan Area\n",
    "    hma = gpd.read_file(r\"data/PKS_postinumeroalueet_2020.shp\")\n",
    "    hma = hma.to_crs(epsg=3067)\n",
    "    \n",
    "    #retrieve the placenames in Helsinki Metropolitan area\n",
    "    hmanames = gpd.overlay(geonames, hma, how=\"intersection\")\n",
    "    hmanames.crs = CRS.from_epsg(3067)\n",
    "    \n",
    "    #convert all placenames to small letters for further processing\n",
    "    hmanames[\"name\"] = hmanames[\"name\"].str.lower()\n",
    "    \n",
    "    #delete general city names Helsinki and Espoo for ambigous results (done in post-processing)\n",
    "    #hmanames = hmanames[(hmanames.name != \"helsinki\") & (hmanames.name !=\"espoo\")]\n",
    "    \n",
    "    print(\"Gazetteer ready for use\")\n",
    "    return hmanames\n",
    "\n",
    "\n",
    "df = get_gazetteer()\n",
    "df.to_file(\"data/hmagazetteer.shp\")"
   ]
  },
  {
   "cell_type": "code",
   "execution_count": null,
   "metadata": {},
   "outputs": [],
   "source": []
  }
 ],
 "metadata": {
  "kernelspec": {
   "display_name": "Python 3",
   "language": "python",
   "name": "python3"
  },
  "language_info": {
   "codemirror_mode": {
    "name": "ipython",
    "version": 3
   },
   "file_extension": ".py",
   "mimetype": "text/x-python",
   "name": "python",
   "nbconvert_exporter": "python",
   "pygments_lexer": "ipython3",
   "version": "3.7.9"
  }
 },
 "nbformat": 4,
 "nbformat_minor": 4
}
